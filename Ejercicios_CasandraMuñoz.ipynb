{
 "cells": [
  {
   "cell_type": "markdown",
   "metadata": {},
   "source": [
    "Ejercicio 1: Escribe un comentario"
   ]
  },
  {
   "cell_type": "code",
   "execution_count": 4,
   "metadata": {},
   "outputs": [],
   "source": [
    "#Hola Mundo\n",
    "#Ser o no ser\n",
    "#CU CU, Pumas"
   ]
  },
  {
   "cell_type": "markdown",
   "metadata": {},
   "source": []
  },
  {
   "cell_type": "markdown",
   "metadata": {},
   "source": [
    "Ejercicio 2: Asigna una variable e imprímela"
   ]
  },
  {
   "cell_type": "code",
   "execution_count": 5,
   "metadata": {},
   "outputs": [
    {
     "name": "stdout",
     "output_type": "stream",
     "text": [
      "2\n"
     ]
    }
   ],
   "source": [
    "x=2\n",
    "print(x)"
   ]
  },
  {
   "cell_type": "markdown",
   "metadata": {},
   "source": [
    "Ejercicio 3: Asigna múltiples valores en una sola línea usando \",\" e imprímelos "
   ]
  },
  {
   "cell_type": "code",
   "execution_count": 6,
   "metadata": {},
   "outputs": [
    {
     "name": "stdout",
     "output_type": "stream",
     "text": [
      "11 22 33\n"
     ]
    }
   ],
   "source": [
    "x, y, z = 11, 22, 33\n",
    "print(x,y,z)"
   ]
  },
  {
   "cell_type": "markdown",
   "metadata": {},
   "source": [
    "Ejercicio 4: No hay"
   ]
  },
  {
   "cell_type": "markdown",
   "metadata": {},
   "source": [
    "#Se pueden dar dos órdenes en la misma línea usando \";\"\n",
    "Ejercicio 5: Asigna dos variables en una sola línea usando \";\" e imprímelos"
   ]
  },
  {
   "cell_type": "code",
   "execution_count": 7,
   "metadata": {},
   "outputs": [
    {
     "name": "stdout",
     "output_type": "stream",
     "text": [
      "2 1\n"
     ]
    }
   ],
   "source": [
    "x= 2 ; y= 1\n",
    "print(x,y)"
   ]
  },
  {
   "cell_type": "markdown",
   "metadata": {},
   "source": [
    "6. #Se pueden realizar operaciones con los signos \" + - * / \"\n",
    "Ejercicio 6: Asigna dos variables en una sola línea usando \";\" realiza una operación creando una tercera variable llamada \"z\" e imprímela"
   ]
  },
  {
   "cell_type": "markdown",
   "metadata": {},
   "source": []
  },
  {
   "cell_type": "code",
   "execution_count": 8,
   "metadata": {},
   "outputs": [
    {
     "name": "stdout",
     "output_type": "stream",
     "text": [
      "1716\n"
     ]
    }
   ],
   "source": [
    "x=25 ; y=50\n",
    "z= z+y * z+z\n",
    "print(z)"
   ]
  },
  {
   "cell_type": "markdown",
   "metadata": {},
   "source": [
    "7. #El texto se agrea entre símbolos de comillas \" o '\n",
    "Ejercicio 7. Asigna texto a una variable e imprímela"
   ]
  },
  {
   "cell_type": "code",
   "execution_count": 1,
   "metadata": {},
   "outputs": [
    {
     "name": "stdout",
     "output_type": "stream",
     "text": [
      "¿Te refieres a Magaly Chávez? No, Magaly ya no es mi novia\n"
     ]
    }
   ],
   "source": [
    "a=\"¿Te refieres a Magaly Chávez?\"\n",
    "print (a, \"No, Magaly ya no es mi novia\")"
   ]
  },
  {
   "cell_type": "markdown",
   "metadata": {},
   "source": [
    "8. #Si la línea de código es muy larga se usa \"\\\" para separar el código en varias líneas\n",
    "Ejercicio 8. Asigna una operación larga en una variable y sepárala usando \"\\\" e imprime el resultado"
   ]
  },
  {
   "cell_type": "code",
   "execution_count": 12,
   "metadata": {},
   "outputs": [
    {
     "name": "stdout",
     "output_type": "stream",
     "text": [
      "19.3\n"
     ]
    }
   ],
   "source": [
    "elefantes= 1 + 2.3 + 4 + 0+\\\n",
    "    2 + 9 +1\n",
    "print(elefantes)"
   ]
  },
  {
   "cell_type": "markdown",
   "metadata": {},
   "source": [
    "9. #Se pueden agrupar operaciones con \"()\" si se dan saltos de línea el código no se rompe, por lo tanto no requiere usar \"\\\" para indicar una separación\n",
    "Ejercicio9. Repite el ejercicio anterior usando \"()\" en lugar \"\\\""
   ]
  },
  {
   "cell_type": "code",
   "execution_count": 15,
   "metadata": {},
   "outputs": [
    {
     "name": "stdout",
     "output_type": "stream",
     "text": [
      "7.333333333333333\n"
     ]
    }
   ],
   "source": [
    "Mapas= (10+4-1*8\n",
    "    +4/3)\n",
    "print (Mapas)"
   ]
  },
  {
   "cell_type": "markdown",
   "metadata": {},
   "source": [
    "10.#Se usa \":\" cuando se crea un bloque\n",
    "Ejercicio 10: Crea dos variables, crea un \"if\" con una condición en bloque, para cada opción crea una respuesta de texto con print"
   ]
  },
  {
   "cell_type": "code",
   "execution_count": 17,
   "metadata": {},
   "outputs": [
    {
     "name": "stdout",
     "output_type": "stream",
     "text": [
      "3 es menor que  6\n"
     ]
    }
   ],
   "source": [
    "x=3; y=6\n",
    "\n",
    "if x>y :\n",
    "    print (x, \"es mayor que \",y)\n",
    "else:\n",
    "    print (x, \"es menor que \",y)"
   ]
  },
  {
   "cell_type": "markdown",
   "metadata": {},
   "source": [
    "Ejercicio 10.1: Invierte los valores de las variables para probar else"
   ]
  },
  {
   "cell_type": "code",
   "execution_count": 19,
   "metadata": {},
   "outputs": [
    {
     "name": "stdout",
     "output_type": "stream",
     "text": [
      "6 es mayor que  3\n"
     ]
    }
   ],
   "source": [
    "x=6; y=3\n",
    "\n",
    "if x>y :\n",
    "    print (x, \"es mayor que \",y)\n",
    "else:\n",
    "    print (x, \"es menor que \",y)"
   ]
  },
  {
   "cell_type": "markdown",
   "metadata": {},
   "source": [
    "Ejercicio 11. Crea la misma variable con dos valores dferentes, un valor para local y un valor diferente para global e imprímelos"
   ]
  },
  {
   "cell_type": "code",
   "execution_count": 20,
   "metadata": {},
   "outputs": [
    {
     "name": "stdout",
     "output_type": "stream",
     "text": [
      "valor local de x =  10\n",
      "valor global de x =  50\n"
     ]
    }
   ],
   "source": [
    " x = 50\n",
    " def f1():\n",
    "    x= 10\n",
    "    print(\"valor local de x = \", x)\n",
    "f1()\n",
    "print(\"valor global de x = \", x)"
   ]
  },
  {
   "cell_type": "code",
   "execution_count": 22,
   "metadata": {},
   "outputs": [
    {
     "name": "stdout",
     "output_type": "stream",
     "text": [
      "el valor de un BTC en pesos es de  800 mil pesos\n",
      "el valor de un BTC es 1 BTC\n"
     ]
    }
   ],
   "source": [
    "unBTC = 1\n",
    "\n",
    "def BTCpeso():\n",
    "    unBTC = 800\n",
    "    print(\"el valor de un BTC en pesos es de \", unBTC, \"mil pesos\")\n",
    "\n",
    "BTCpeso()\n",
    "print(\"el valor de un BTC es\", unBTC, \"BTC\")\n"
   ]
  },
  {
   "cell_type": "markdown",
   "metadata": {},
   "source": [
    "Ejercicio 12. con todos los ejercicios anteriores\n",
    "\n",
    "La temática es hacer un comando donde a la vez se relate un poco acerca de dos personajes que quieren comprar una torta de milanesa de pollo empanizada con queso oaxaca (a.k.a quesillo)"
   ]
  },
  {
   "cell_type": "code",
   "execution_count": 3,
   "metadata": {},
   "outputs": [
    {
     "name": "stdout",
     "output_type": "stream",
     "text": [
      "Pedrito caminó junto a un puesto de tortas donde olió la milanesa calentandose en la parrilla\n",
      "Pedrito: Hola, ¿cuánto cuesta una torta de milanesa?\n",
      "Tortero: 45 pesos joven\n",
      "---Sin embargo Pedrito se dio cuenta que solo tenía 50 pesos y necesitaba regresar a su casa... pero el camión le cuesta 6 pesos----\n",
      "Valor de la torta =  45\n",
      "Dinero que le falta a Pedrito =  1 peso\n",
      "Pedrito: Oiga Don, y si no le pone queso?\n",
      "Tortero: Son 10 pesos menos\n",
      "----Pedrito hizo cuentas...---\n",
      "Pedrito: a ver, 45-10 son...\n",
      "35\n",
      "Pedrito: Deme una sin queso porfa\n",
      "Tortero: Sale una torta de milanesa\n"
     ]
    }
   ],
   "source": [
    "A1=\"Pedrito caminó junto a un puesto de tortas donde olió la milanesa calentandose en la parrilla\"\n",
    "y=\"Pedrito:\"\n",
    "a=\"Tortero:\"\n",
    "n= \"---Sin embargo Pedrito se dio cuenta que solo tenía 50 pesos y necesitaba regresar a su casa... pero el camión le cuesta 6 pesos----\"\n",
    "\n",
    "print(A1)\n",
    "print (y, \"Hola, ¿cuánto cuesta una torta de milanesa?\")\n",
    "print(a,\"45 pesos joven\")\n",
    "print (n)\n",
    "\n",
    "df = \"1 peso\"\n",
    "def f1():\n",
    "    dt= 45\n",
    "    print(\"Valor de la torta = \", dt)\n",
    "f1()\n",
    "print(\"Dinero que le falta a Pedrito = \", df)\n",
    "\n",
    "y2=\"Pedrito:\"\n",
    "a2=\"Tortero:\"\n",
    "\n",
    "print(y2,\"Oiga Don, y si no le pone queso?\")\n",
    "print(a2,\"Son 10 pesos menos\")\n",
    "\n",
    "n2=\"----Pedrito hizo cuentas...---\"\n",
    "TM=45 ; TSQ= 10\n",
    "y3=\"Pedrito: a ver, 45-10 son...\"\n",
    "TMSQ=TM-TSQ\n",
    "print(n2)\n",
    "print(y3)\n",
    "print(TMSQ)\n",
    "\n",
    "y4=\"Pedrito:\"\n",
    "a3=\"Tortero:\"\n",
    "\n",
    "print(y4,\"Deme una sin queso porfa\")\n",
    "print(a3,\"Sale una torta de milanesa\")"
   ]
  },
  {
   "cell_type": "code",
   "execution_count": null,
   "metadata": {},
   "outputs": [],
   "source": []
  }
 ],
 "metadata": {
  "kernelspec": {
   "display_name": "base",
   "language": "python",
   "name": "python3"
  },
  "language_info": {
   "codemirror_mode": {
    "name": "ipython",
    "version": 3
   },
   "file_extension": ".py",
   "mimetype": "text/x-python",
   "name": "python",
   "nbconvert_exporter": "python",
   "pygments_lexer": "ipython3",
   "version": "3.11.8"
  }
 },
 "nbformat": 4,
 "nbformat_minor": 2
}
