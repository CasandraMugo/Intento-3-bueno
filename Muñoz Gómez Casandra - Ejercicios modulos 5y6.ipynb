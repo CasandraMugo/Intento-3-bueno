{
 "cells": [
  {
   "cell_type": "markdown",
   "metadata": {},
   "source": [
    "Ejercicio 1: Concatenación de Listas\n",
    "\n",
    "Objetivo: Escribe un programa que tome dos listas y las concatene en una nueva lista, luego imprime la lista resultante.\n"
   ]
  },
  {
   "cell_type": "code",
   "execution_count": 13,
   "metadata": {},
   "outputs": [
    {
     "name": "stdout",
     "output_type": "stream",
     "text": [
      "[1, 2, 3, 4, 5, 6]\n"
     ]
    }
   ],
   "source": [
    "#Programa aquí la respuesta del ejercicio 1\n",
    "lista1 = [1,2,3]\n",
    "lista2 = [4,5,6]\n",
    "lista_concatenada = lista1+lista2\n",
    "print (lista_concatenada)"
   ]
  },
  {
   "cell_type": "markdown",
   "metadata": {},
   "source": [
    "Ejercicio 2: Información de Contacto\n",
    "\n",
    "Objetivo: Crea un diccionario para almacenar información de contacto de una persona. \n",
    "\n",
    "El diccionario debe incluir nombre, teléfono y correo electrónico. \n",
    "Luego, escribe un programa que añada un nuevo campo al diccionario llamado \"dirección\", y muestra el diccionario actualizado."
   ]
  },
  {
   "cell_type": "code",
   "execution_count": 15,
   "metadata": {},
   "outputs": [
    {
     "name": "stdout",
     "output_type": "stream",
     "text": [
      "{'Nombre': 'Layka', 'Teléfono': '5506022002', 'Correo': 'layka@guagua.com'}\n",
      "{'Nombre': 'Layka', 'Teléfono': '5506022002', 'Correo': 'layka@guagua.com', 'Dirección': 'Sexto Piso'}\n"
     ]
    }
   ],
   "source": [
    "#Programa aquí la respuesta del ejercicio 2\n",
    "Contacto = {\n",
    "    \"Nombre\" : 'Layka', \n",
    "    \"Teléfono\" : '5506022002', \n",
    "    \"Correo\" : 'layka@guagua.com'\n",
    "}\n",
    "print (Contacto)\n",
    "\n",
    "Contacto[\"Dirección\"] = 'Sexto Piso'\n",
    "print(Contacto)\n"
   ]
  },
  {
   "cell_type": "markdown",
   "metadata": {},
   "source": [
    "Ejercicio 3: Máximo y Mínimo en Tupla\n",
    "\n",
    "Objetivo: Dada una tupla de números enteros, escribe un programa que encuentre y muestre el valor máximo y mínimo dentro de la tupla.\n"
   ]
  },
  {
   "cell_type": "code",
   "execution_count": 1,
   "metadata": {},
   "outputs": [
    {
     "name": "stdout",
     "output_type": "stream",
     "text": [
      "(40, 10, 5, 5, 70, 25)\n",
      "70\n",
      "5\n"
     ]
    }
   ],
   "source": [
    "#Programa aquí la respuesta del ejercicio 3\n",
    "tupla=(40,10,5,5,70,25)\n",
    "print(tupla)\n",
    "\n",
    "maximo = max (tupla)\n",
    "minimo = min (tupla)\n",
    "print (maximo)\n",
    "print (minimo)"
   ]
  },
  {
   "cell_type": "markdown",
   "metadata": {},
   "source": [
    "Ejercicio 4: Filtrar Pares e Impares (Listas)\n",
    "\n",
    "Objetivo: Dada una lista de números enteros, crea dos listas nuevas: una que contenga solo los números pares y otra con los números impares."
   ]
  },
  {
   "cell_type": "code",
   "execution_count": 40,
   "metadata": {},
   "outputs": [
    {
     "name": "stdout",
     "output_type": "stream",
     "text": [
      "[2, 4, 6, 8] [1, 3, 5, 7, 9]\n"
     ]
    }
   ],
   "source": [
    "#Programa aquí la respuesta del ejercicio 4\n",
    "\n",
    "\n",
    "Enteros = (1,2,3,4,5,6,7,8,9)\n",
    "Par = []\n",
    "Impar = []\n",
    "\n",
    "for i in Enteros:\n",
    "    if i % 2 == 0:\n",
    "       Par.append(i)\n",
    "    else:\n",
    "        Impar.append(i)\n",
    "print(Par, Impar)"
   ]
  },
  {
   "cell_type": "markdown",
   "metadata": {},
   "source": [
    "Ejercicio 5: Actualizar Diccionario (Diccionarios)\n",
    "\n",
    "Objetivo: Dado un diccionario que representa el inventario de una tienda con productos y sus cantidades, escribe un programa que actualice la cantidad de un producto. Si el producto no existe, debe añadirlo al diccionario con la cantidad dada.\n"
   ]
  },
  {
   "cell_type": "code",
   "execution_count": 49,
   "metadata": {},
   "outputs": [
    {
     "name": "stdout",
     "output_type": "stream",
     "text": [
      "{'Coca': 5, 'Arroz': 0, 'Cigarros': 2}\n",
      "{'Coca': 5, 'Arroz': 0, 'Cigarros': 2, 'Frutas': 11}\n"
     ]
    }
   ],
   "source": [
    "#Programa aquí la respuesta del ejercicio 5\n",
    "Inventario = {'Coca':5, 'Arroz':0, 'Cigarros': 2}\n",
    "print (Inventario)\n",
    "Falta = \"Frutas\"\n",
    "cantidad= 11\n",
    "if Falta in Inventario:\n",
    "    Inventario [\"Frutas\"]+=cantidad\n",
    "else: \n",
    "    Inventario [\"Frutas\"]=cantidad \n",
    "print(Inventario)"
   ]
  },
  {
   "cell_type": "markdown",
   "metadata": {},
   "source": [
    "Ejercicio 3: Operaciones con Conjuntos (Conjuntos)\n",
    "\n",
    "Objetivo: Dados dos conjuntos de números, calcula e imprime la unión, intersección, diferencia, y diferencia simétrica entre ambos.\n"
   ]
  },
  {
   "cell_type": "code",
   "execution_count": null,
   "metadata": {},
   "outputs": [],
   "source": [
    "#Programa aquí la respuesta del ejercicio 6"
   ]
  }
 ],
 "metadata": {
  "kernelspec": {
   "display_name": "Python 3",
   "language": "python",
   "name": "python3"
  },
  "language_info": {
   "codemirror_mode": {
    "name": "ipython",
    "version": 3
   },
   "file_extension": ".py",
   "mimetype": "text/x-python",
   "name": "python",
   "nbconvert_exporter": "python",
   "pygments_lexer": "ipython3",
   "version": "3.11.8"
  }
 },
 "nbformat": 4,
 "nbformat_minor": 2
}
